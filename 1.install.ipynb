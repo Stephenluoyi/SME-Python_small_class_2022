{
 "cells": [
  {
   "cell_type": "code",
   "execution_count": 1,
   "id": "48469796",
   "metadata": {},
   "outputs": [],
   "source": [
    "#环境\n",
    "#python=3.8\n",
    "#pytorch=1.10"
   ]
  },
  {
   "cell_type": "code",
   "execution_count": 2,
   "id": "c01fc811",
   "metadata": {},
   "outputs": [],
   "source": [
    "#安装transformers\n",
    "#pip安装\n",
    "#pip install transformers\n",
    "\n",
    "#conda安装\n",
    "#conda install -c huggingface transformers"
   ]
  },
  {
   "cell_type": "code",
   "execution_count": 3,
   "id": "8e7adbd4",
   "metadata": {},
   "outputs": [],
   "source": [
    "#安装datasets\n",
    "#pip安装\n",
    "#pip install datasets\n",
    "\n",
    "#conda安装\n",
    "#conda install -c huggingface -c conda-forge datasets"
   ]
  },
  {
   "cell_type": "code",
   "execution_count": 3,
   "id": "3b958003",
   "metadata": {},
   "outputs": [
    {
     "name": "stdout",
     "output_type": "stream",
     "text": [
      "device= cpu\n"
     ]
    }
   ],
   "source": [
    "# GPU pytorch\n",
    "import torch\n",
    "\n",
    "#快速演示\n",
    "device = 'cuda' if torch.cuda.is_available() else 'cpu'\n",
    "print('device=', device)\n",
    "# torch.cuda.device_count()   \n",
    "# torch.cuda.get_device_name(0) "
   ]
  }
 ],
 "metadata": {
  "kernelspec": {
   "display_name": "Python 3.8.15 ('nlp_3.8')",
   "language": "python",
   "name": "python3"
  },
  "language_info": {
   "codemirror_mode": {
    "name": "ipython",
    "version": 3
   },
   "file_extension": ".py",
   "mimetype": "text/x-python",
   "name": "python",
   "nbconvert_exporter": "python",
   "pygments_lexer": "ipython3",
   "version": "3.8.15"
  },
  "vscode": {
   "interpreter": {
    "hash": "43742975f9fd29dbf2191f9f2e96e45b962163350946a7e6a29138430be426af"
   }
  }
 },
 "nbformat": 4,
 "nbformat_minor": 5
}

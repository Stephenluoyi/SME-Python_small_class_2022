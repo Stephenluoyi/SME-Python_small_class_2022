{
 "cells": [
  {
   "cell_type": "code",
   "execution_count": 1,
   "metadata": {},
   "outputs": [],
   "source": [
    "import numpy as np\n",
    "import pandas as pd\n",
    "from torch import optim,nn\n",
    "import torch.nn.functional as F\n",
    "from torch.utils.data.dataset import Dataset\n",
    " \n",
    "class DatasetFromCSV(Dataset):\n",
    "    def __init__(self, csv_path):\n",
    " \n",
    "        self.dataset = pd.read_csv(csv_path)\n",
    " \n",
    "    def __getitem__(self,i):\n",
    "        text = self.dataset['text'][i]\n",
    "        label = self.dataset['return'][i]\n",
    "\n",
    "        return text, label\n",
    " \n",
    "    def __len__(self):\n",
    "        return len(self.dataset)\n",
    " \n",
    " \n",
    "train_data= DatasetFromCSV('./mydata/数据样式_宁德时代.csv')\n"
   ]
  },
  {
   "cell_type": "code",
   "execution_count": 4,
   "metadata": {},
   "outputs": [
    {
     "name": "stdout",
     "output_type": "stream",
     "text": [
      "('选择珠江花园的原因就是方便，有电动扶梯直接到达海边，周围餐馆、食廊、商场、超市、摊位一应俱全。', 0.01)\n"
     ]
    }
   ],
   "source": [
    "print(train_data[0])"
   ]
  }
 ],
 "metadata": {
  "kernelspec": {
   "display_name": "Python 3.8.15 ('nlp_3.8')",
   "language": "python",
   "name": "python3"
  },
  "language_info": {
   "codemirror_mode": {
    "name": "ipython",
    "version": 3
   },
   "file_extension": ".py",
   "mimetype": "text/x-python",
   "name": "python",
   "nbconvert_exporter": "python",
   "pygments_lexer": "ipython3",
   "version": "3.8.15"
  },
  "orig_nbformat": 4,
  "vscode": {
   "interpreter": {
    "hash": "43742975f9fd29dbf2191f9f2e96e45b962163350946a7e6a29138430be426af"
   }
  }
 },
 "nbformat": 4,
 "nbformat_minor": 2
}
